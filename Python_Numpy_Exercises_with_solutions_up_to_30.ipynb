{
 "cells": [
  {
   "cell_type": "markdown",
   "id": "cf7821be",
   "metadata": {},
   "source": [
    "# NumPy Exercises - Solutions (1-30)\n",
    "\n",
    "Generated solutions up to question 30.\n"
   ]
  },
  {
   "cell_type": "markdown",
   "id": "64b42896",
   "metadata": {},
   "source": [
    "#### 1. Import the numpy package under the name `np` and print the numpy version and the configuration (★☆☆)\n",
    "\n",
    "**Solution:**"
   ]
  },
  {
   "cell_type": "code",
   "execution_count": null,
   "id": "53da3278",
   "metadata": {},
   "outputs": [],
   "source": [
    "import numpy as np\n",
    "print('numpy version:', np.__version__)\n",
    "print('config:')\n",
    "np.show_config()"
   ]
  },
  {
   "cell_type": "markdown",
   "id": "740bd1a7",
   "metadata": {},
   "source": [
    "#### 2. Convert a list of numeric value into a one-dimensional NumPy array (★☆☆)\n",
    "\n",
    "**Solution:**"
   ]
  },
  {
   "cell_type": "code",
   "execution_count": null,
   "id": "af8eabab",
   "metadata": {},
   "outputs": [],
   "source": [
    "import numpy as np\n",
    "lst = [1,2,3,4,5]\n",
    "arr = np.array(lst)\n",
    "arr"
   ]
  },
  {
   "cell_type": "markdown",
   "id": "d71c8478",
   "metadata": {},
   "source": [
    "#### 3. Create a null vector of size 9 (★☆☆)\n",
    "\n",
    "**Solution:**"
   ]
  },
  {
   "cell_type": "code",
   "execution_count": null,
   "id": "0e120d3c",
   "metadata": {},
   "outputs": [],
   "source": [
    "import numpy as np\n",
    "z = np.zeros(9)\n",
    "z"
   ]
  },
  {
   "cell_type": "markdown",
   "id": "ad585e57",
   "metadata": {},
   "source": [
    "#### 4. How to find the memory size of any array (★☆☆)\n",
    "\n",
    "**Solution:**"
   ]
  },
  {
   "cell_type": "code",
   "execution_count": null,
   "id": "fd404219",
   "metadata": {},
   "outputs": [],
   "source": [
    "import numpy as np\n",
    "arr = np.zeros((10,10))\n",
    "print('itemsize (bytes):', arr.itemsize)\n",
    "print('nbytes (total bytes):', arr.nbytes)\n",
    "# memory size = nbytes"
   ]
  },
  {
   "cell_type": "markdown",
   "id": "15fb4323",
   "metadata": {},
   "source": [
    "#### 5. How to get the documentation of the numpy add function from the command line? (★☆☆)\n",
    "\n",
    "**Solution:**"
   ]
  },
  {
   "cell_type": "code",
   "execution_count": null,
   "id": "b4be9ddd",
   "metadata": {},
   "outputs": [],
   "source": [
    "import numpy as np\n",
    "# From Python you can use help:\n",
    "help(np.add)\n",
    "# From command line: pydoc numpy.add"
   ]
  },
  {
   "cell_type": "markdown",
   "id": "a3e9c3fe",
   "metadata": {},
   "source": [
    "#### 6. Create a null vector of size 12 but the sixth value which is 1 (★☆☆)\n",
    "\n",
    "**Solution:**"
   ]
  },
  {
   "cell_type": "code",
   "execution_count": null,
   "id": "3a33db98",
   "metadata": {},
   "outputs": [],
   "source": [
    "import numpy as np\n",
    "v = np.zeros(12)\n",
    "v[5] = 1\n",
    "v"
   ]
  },
  {
   "cell_type": "markdown",
   "id": "f197bc9b",
   "metadata": {},
   "source": [
    "#### 7. Create a vector with values ranging from 20 to 59 (★☆☆)\n",
    "\n",
    "**Solution:**"
   ]
  },
  {
   "cell_type": "code",
   "execution_count": null,
   "id": "6b28aa40",
   "metadata": {},
   "outputs": [],
   "source": [
    "import numpy as np\n",
    "v = np.arange(20,60)\n",
    "v"
   ]
  },
  {
   "cell_type": "markdown",
   "id": "0cbe649b",
   "metadata": {},
   "source": [
    "#### 8. Reverse a vector (first element becomes last) (★☆☆)\n",
    "\n",
    "**Solution:**"
   ]
  },
  {
   "cell_type": "code",
   "execution_count": null,
   "id": "61fdf306",
   "metadata": {},
   "outputs": [],
   "source": [
    "import numpy as np\n",
    "v = np.arange(10)\n",
    "rev = v[::-1]\n",
    "rev"
   ]
  },
  {
   "cell_type": "markdown",
   "id": "b2a35830",
   "metadata": {},
   "source": [
    "#### 9. Create a 3x3 matrix with values ranging from 12 to 20 (★☆☆)\n",
    "\n",
    "**Solution:**"
   ]
  },
  {
   "cell_type": "code",
   "execution_count": null,
   "id": "39d1e64d",
   "metadata": {},
   "outputs": [],
   "source": [
    "import numpy as np\n",
    "m = np.arange(12,21).reshape((3,3))\n",
    "m"
   ]
  },
  {
   "cell_type": "markdown",
   "id": "f28013f4",
   "metadata": {},
   "source": [
    "#### 10. Find indices of non-zero elements from [3,7,0,0,9,0] (★☆☆)\n",
    "\n",
    "**Solution:**"
   ]
  },
  {
   "cell_type": "code",
   "execution_count": null,
   "id": "5ccf5df5",
   "metadata": {},
   "outputs": [],
   "source": [
    "import numpy as np\n",
    "arr = np.array([3,7,0,0,9,0])\n",
    "indices = np.nonzero(arr)[0]\n",
    "indices"
   ]
  },
  {
   "cell_type": "markdown",
   "id": "1ec3bd8d",
   "metadata": {},
   "source": [
    "#### 11. Create a 4x4 identity matrix (★☆☆)\n",
    "\n",
    "**Solution:**"
   ]
  },
  {
   "cell_type": "code",
   "execution_count": null,
   "id": "8f85343e",
   "metadata": {},
   "outputs": [],
   "source": [
    "import numpy as np\n",
    "np.eye(4)"
   ]
  },
  {
   "cell_type": "markdown",
   "id": "8ed7c335",
   "metadata": {},
   "source": [
    "#### 12. Create a 2x2x2 array with random values (★☆☆)\n",
    "\n",
    "**Solution:**"
   ]
  },
  {
   "cell_type": "code",
   "execution_count": null,
   "id": "b35c65aa",
   "metadata": {},
   "outputs": [],
   "source": [
    "import numpy as np\n",
    "np.random.random((2,2,2))"
   ]
  },
  {
   "cell_type": "markdown",
   "id": "b835a885",
   "metadata": {},
   "source": [
    "#### 13. Create a 9x9 array with random values and find the minimum and maximum values (★☆☆)\n",
    "\n",
    "**Solution:**"
   ]
  },
  {
   "cell_type": "code",
   "execution_count": null,
   "id": "10e48b94",
   "metadata": {},
   "outputs": [],
   "source": [
    "import numpy as np\n",
    "r = np.random.random((9,9))\n",
    "r.min(), r.max()"
   ]
  },
  {
   "cell_type": "markdown",
   "id": "adf54476",
   "metadata": {},
   "source": [
    "#### 14. Create a random vector of size 20 and find the mean value (★☆☆)\n",
    "\n",
    "**Solution:**"
   ]
  },
  {
   "cell_type": "code",
   "execution_count": null,
   "id": "c4cf5ded",
   "metadata": {},
   "outputs": [],
   "source": [
    "import numpy as np\n",
    "v = np.random.random(20)\n",
    "v.mean()"
   ]
  },
  {
   "cell_type": "markdown",
   "id": "733daca7",
   "metadata": {},
   "source": [
    "#### 15. Create a 2d array with 1 on the border and 0 inside (★☆☆)\n",
    "\n",
    "**Solution:**"
   ]
  },
  {
   "cell_type": "code",
   "execution_count": null,
   "id": "3080630e",
   "metadata": {},
   "outputs": [],
   "source": [
    "import numpy as np\n",
    "n = 6\n",
    "arr = np.ones((n,n))\n",
    "arr[1:-1,1:-1] = 0\n",
    "arr"
   ]
  },
  {
   "cell_type": "markdown",
   "id": "8e1e0892",
   "metadata": {},
   "source": [
    "#### 16. How to add a border (filled with 0's) around an existing array? (★☆☆)\n",
    "\n",
    "**Solution:**"
   ]
  },
  {
   "cell_type": "code",
   "execution_count": null,
   "id": "c3c3ecf2",
   "metadata": {},
   "outputs": [],
   "source": [
    "import numpy as np\n",
    "arr = np.ones((3,3))\n",
    "arr_padded = np.pad(arr, pad_width=1, mode='constant', constant_values=0)\n",
    "arr_padded"
   ]
  },
  {
   "cell_type": "markdown",
   "id": "6e48687f",
   "metadata": {},
   "source": [
    "#### 17. What is the result of the following expression? (★☆☆)\n",
    "\n",
    "**Solution:**"
   ]
  },
  {
   "cell_type": "code",
   "execution_count": null,
   "id": "f96ee7b6",
   "metadata": {},
   "outputs": [],
   "source": [
    "import numpy as np\n",
    "# The common exercise is: what does np.arange(3)? but unclear.\n",
    "# Example expression and result demonstration:\n",
    "print(np.arange(3))\n",
    "print('Without more context this is a placeholder answer')"
   ]
  },
  {
   "cell_type": "markdown",
   "id": "f7700a89",
   "metadata": {},
   "source": [
    "#### 18. Create a 6x6 matrix with values 1,2,3,4 just below the diagonal (★☆☆)\n",
    "\n",
    "**Solution:**"
   ]
  },
  {
   "cell_type": "code",
   "execution_count": null,
   "id": "a00393db",
   "metadata": {},
   "outputs": [],
   "source": [
    "import numpy as np\n",
    "n = 6\n",
    "k = np.zeros((n,n), dtype=int)\n",
    "for i, val in enumerate([1,2,3,4], start=1):\n",
    "    if i<n:\n",
    "        k[i, i-1] = val\n",
    "k"
   ]
  },
  {
   "cell_type": "markdown",
   "id": "41c4c5f0",
   "metadata": {},
   "source": [
    "#### 19. Create a 6x6 matrix and fill it with a checkerboard pattern (★☆☆)\n",
    "\n",
    "**Solution:**"
   ]
  },
  {
   "cell_type": "code",
   "execution_count": null,
   "id": "4e32f8e3",
   "metadata": {},
   "outputs": [],
   "source": [
    "import numpy as np\n",
    "n = 6\n",
    "board = np.zeros((n,n), dtype=int)\n",
    "board[1::2, ::2] = 1\n",
    "board[::2, 1::2] = 1\n",
    "board"
   ]
  },
  {
   "cell_type": "markdown",
   "id": "027d245f",
   "metadata": {},
   "source": [
    "#### 20. Consider a (8,9,10) shape array, what is the index (x,y,z) of the 100th element? (★☆☆)\n",
    "\n",
    "**Solution:**"
   ]
  },
  {
   "cell_type": "code",
   "execution_count": null,
   "id": "8fe08f61",
   "metadata": {},
   "outputs": [],
   "source": [
    "import numpy as np\n",
    "shape = (8,9,10)\n",
    "# index of the 100th element (0-based count -> element number 99)\n",
    "flat_index = 99\n",
    "x = flat_index // (shape[1]*shape[2])\n",
    "rem = flat_index % (shape[1]*shape[2])\n",
    "y = rem // shape[2]\n",
    "z = rem % shape[2]\n",
    "(x,y,z)"
   ]
  },
  {
   "cell_type": "markdown",
   "id": "6da66a6d",
   "metadata": {},
   "source": [
    "#### 21. Create a checkerboard 8x8 matrix using the tile function (★☆☆)\n",
    "\n",
    "**Solution:**"
   ]
  },
  {
   "cell_type": "code",
   "execution_count": null,
   "id": "6574a406",
   "metadata": {},
   "outputs": [],
   "source": [
    "import numpy as np\n",
    "rep = np.tile(np.array([[0,1],[1,0]]), (4,4))\n",
    "rep"
   ]
  },
  {
   "cell_type": "markdown",
   "id": "0f97ecbf",
   "metadata": {},
   "source": [
    "#### 22. Normalize a 6x6 random matrix (★☆☆)\n",
    "\n",
    "**Solution:**"
   ]
  },
  {
   "cell_type": "code",
   "execution_count": null,
   "id": "8a20d158",
   "metadata": {},
   "outputs": [],
   "source": [
    "import numpy as np\n",
    "m = np.random.random((6,6))\n",
    "mn = (m - m.min())/(m.max()-m.min())\n",
    "mn"
   ]
  },
  {
   "cell_type": "markdown",
   "id": "26816965",
   "metadata": {},
   "source": [
    "#### 23. find the number of elements of an array, length of one array ...element in bytes and total bytes consumed by the elements. (★☆☆)\n",
    "\n",
    "**Solution:**"
   ]
  },
  {
   "cell_type": "code",
   "execution_count": null,
   "id": "e481e8f0",
   "metadata": {},
   "outputs": [],
   "source": [
    "import numpy as np\n",
    "arr = np.arange(24).reshape(6,4)\n",
    "print('shape:', arr.shape)\n",
    "print('size (total elements):', arr.size)\n",
    "print('itemsize (bytes):', arr.itemsize)\n",
    "print('nbytes (total bytes):', arr.nbytes)"
   ]
  },
  {
   "cell_type": "markdown",
   "id": "68fb5acf",
   "metadata": {},
   "source": [
    "#### 24. Multiply a 6x3 matrix by a 3x4 matrix (real matrix product) (★☆☆)\n",
    "\n",
    "**Solution:**"
   ]
  },
  {
   "cell_type": "code",
   "execution_count": null,
   "id": "d0461dd3",
   "metadata": {},
   "outputs": [],
   "source": [
    "import numpy as np\n",
    "A = np.random.random((6,3))\n",
    "B = np.random.random((3,4))\n",
    "C = A.dot(B)\n",
    "C.shape"
   ]
  },
  {
   "cell_type": "markdown",
   "id": "e5083d01",
   "metadata": {},
   "source": [
    "#### 25. Given a 1D array, negate all elements which are between 3 and 8, in place. (★☆☆)\n",
    "\n",
    "**Solution:**"
   ]
  },
  {
   "cell_type": "code",
   "execution_count": null,
   "id": "ef4cf7da",
   "metadata": {},
   "outputs": [],
   "source": [
    "import numpy as np\n",
    "arr = np.arange(11)\n",
    "mask = (arr >= 3) & (arr <= 8)\n",
    "arr[mask] = -arr[mask]\n",
    "arr"
   ]
  },
  {
   "cell_type": "markdown",
   "id": "7596bf22",
   "metadata": {},
   "source": [
    "#### 26. What is the output of the following script? (★☆☆)\n",
    "\n",
    "**Solution:**"
   ]
  },
  {
   "cell_type": "code",
   "execution_count": null,
   "id": "5566ac4a",
   "metadata": {},
   "outputs": [],
   "source": [
    "import numpy as np\n",
    "# Without seeing the script, here's a placeholder showing typical output demonstration\n",
    "print('Cannot determine without script; please provide it')"
   ]
  },
  {
   "cell_type": "markdown",
   "id": "6dd4a7cb",
   "metadata": {},
   "source": [
    "#### 27. Write a Python program compare two arrays using numpy (★☆☆)\n",
    "\n",
    "**Solution:**"
   ]
  },
  {
   "cell_type": "code",
   "execution_count": null,
   "id": "8e4ee4ac",
   "metadata": {},
   "outputs": [],
   "source": [
    "import numpy as np\n",
    "a = np.array([1,2,3])\n",
    "b = np.array([1,2,4])\n",
    "print('equal:', np.array_equal(a,b))\n",
    "print('element-wise equal:', a==b)"
   ]
  },
  {
   "cell_type": "markdown",
   "id": "071324fc",
   "metadata": {},
   "source": [
    "#### 28. What are the result of the following expressions? (★☆☆)\n",
    "\n",
    "**Solution:**"
   ]
  },
  {
   "cell_type": "code",
   "execution_count": null,
   "id": "229a20f5",
   "metadata": {},
   "outputs": [],
   "source": [
    "import numpy as np\n",
    "# Placeholder: print a few example expressions\n",
    "print(np.arange(3) - np.arange(3)[:, None])\n",
    "print('Provide specific expressions for exact answers')"
   ]
  },
  {
   "cell_type": "markdown",
   "id": "2fb87991",
   "metadata": {},
   "source": [
    "#### 29. How to round away from zero a float array ? (★☆☆)\n",
    "\n",
    "**Solution:**"
   ]
  },
  {
   "cell_type": "code",
   "execution_count": null,
   "id": "4cf35f07",
   "metadata": {},
   "outputs": [],
   "source": [
    "import numpy as np\n",
    "arr = np.array([-1.7, -0.2, 0.2, 1.7])\n",
    "res = np.where(arr>0, np.ceil(arr), np.floor(arr))\n",
    "res\n",
    "# or use np.trunc with sign handling"
   ]
  },
  {
   "cell_type": "markdown",
   "id": "82771f11",
   "metadata": {},
   "source": [
    "#### 30. How to find common values between two arrays? (★☆☆)\n",
    "\n",
    "**Solution:**"
   ]
  },
  {
   "cell_type": "code",
   "execution_count": null,
   "id": "4cac5294",
   "metadata": {},
   "outputs": [],
   "source": [
    "import numpy as np\n",
    "a = np.array([1,2,3,4])\n",
    "b = np.array([3,4,5,6])\n",
    "np.intersect1d(a,b)"
   ]
  }
 ],
 "metadata": {},
 "nbformat": 4,
 "nbformat_minor": 5
}
